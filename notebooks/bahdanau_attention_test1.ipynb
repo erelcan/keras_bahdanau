{
 "cells": [
  {
   "cell_type": "markdown",
   "metadata": {},
   "source": [
    "# Bahdanau Attention Test 1"
   ]
  },
  {
   "cell_type": "markdown",
   "metadata": {},
   "source": [
    "Let's test our **Bahdanau Attention** Layer with the following test code [[1](https://machinelearningmastery.com/encoder-decoder-attention-sequence-to-sequence-prediction-keras/)].\n",
    "\n",
    "* Added Bahdanau layer, followed by a TimeDistributedDense layer.\n",
    "* Also, changed LSTM layer to BiLSTM layer as in [2](https://arxiv.org/pdf/1409.0473.pdf)."
   ]
  },
  {
   "cell_type": "code",
   "execution_count": null,
   "metadata": {},
   "outputs": [],
   "source": [
    "# import os\n",
    "# os.environ['CUDA_VISIBLE_DEVICES'] = '-1'\n",
    "\n",
    "from random import randint\n",
    "from numpy import array\n",
    "from numpy import argmax\n",
    "from numpy import array_equal\n",
    "from keras.models import Sequential\n",
    "# from keras.layers import LSTM\n",
    "from keras_bahdanau.recurrent import BahdanauGRU\n",
    "from keras.layers import Dense, LSTM\n",
    "from keras.layers.wrappers import Bidirectional, TimeDistributed\n",
    "\n",
    "\n",
    "# generate a sequence of random integers\n",
    "def generate_sequence(length, n_unique):\n",
    "    return [randint(0, n_unique-1) for _ in range(length)]\n",
    "\n",
    "\n",
    "# one hot encode sequence\n",
    "def one_hot_encode(sequence, n_unique):\n",
    "    encoding = list()\n",
    "    for value in sequence:\n",
    "        vector = [0 for _ in range(n_unique)]\n",
    "        vector[value] = 1\n",
    "        encoding.append(vector)\n",
    "    return array(encoding)\n",
    "\n",
    "\n",
    "# decode a one hot encoded string\n",
    "def one_hot_decode(encoded_seq):\n",
    "    return [argmax(vector) for vector in encoded_seq]\n",
    "\n",
    "\n",
    "# prepare data for the LSTM\n",
    "def get_pair(n_in, n_out, cardinality):\n",
    "    # generate random sequence\n",
    "    sequence_in = generate_sequence(n_in, cardinality)\n",
    "    sequence_out = sequence_in[:n_out] + [0 for _ in range(n_in-n_out)]\n",
    "    # one hot encode\n",
    "    X = one_hot_encode(sequence_in, cardinality)\n",
    "    y = one_hot_encode(sequence_out, cardinality)\n",
    "    # reshape as 3D\n",
    "    X = X.reshape((1, X.shape[0], X.shape[1]))\n",
    "    y = y.reshape((1, y.shape[0], y.shape[1]))\n",
    "    return X,y\n",
    "\n",
    "\n",
    "# configure problem\n",
    "n_features = 50\n",
    "n_timesteps_in = 5\n",
    "n_timesteps_out = 2\n",
    "# define model\n",
    "model = Sequential()\n",
    "model.add(Bidirectional(LSTM(150, return_sequences=True), input_shape=(n_timesteps_in, n_features)))\n",
    "# model.add(LSTM(150, input_shape=(n_timesteps_in, n_features), return_sequences=True))\n",
    "model.add(BahdanauGRU(100, return_sequences=True))\n",
    "model.add(TimeDistributed(Dense(n_features, activation='softmax')))\n",
    "model.compile(loss='categorical_crossentropy', optimizer='adam', metrics=['acc'])\n",
    "model.summary()\n",
    "# train LSTM\n",
    "for epoch in range(5000):\n",
    "    # generate new random sequence\n",
    "    X,y = get_pair(n_timesteps_in, n_timesteps_out, n_features)\n",
    "    # fit model for one epoch on this sequence\n",
    "    model.fit(X, y, epochs=1, verbose=1)\n",
    "\n",
    "# evaluate LSTM\n",
    "total, correct = 100, 0\n",
    "for _ in range(total):\n",
    "    X,y = get_pair(n_timesteps_in, n_timesteps_out, n_features)\n",
    "    yhat = model.predict(X, verbose=0)\n",
    "    if array_equal(one_hot_decode(y[0]), one_hot_decode(yhat[0])):\n",
    "        correct += 1\n",
    "print('Accuracy: %.2f%%' % (float(correct)/float(total)*100.0))\n",
    "\n",
    "# spot check some examples\n",
    "for _ in range(10):\n",
    "    X,y = get_pair(n_timesteps_in, n_timesteps_out, n_features)\n",
    "    yhat = model.predict(X, verbose=0)\n",
    "    print('Expected:', one_hot_decode(y[0]), 'Predicted', one_hot_decode(yhat[0]))"
   ]
  },
  {
   "cell_type": "markdown",
   "metadata": {},
   "source": [
    "Here is a summary of the model:"
   ]
  },
  {
   "cell_type": "code",
   "execution_count": null,
   "metadata": {},
   "outputs": [],
   "source": [
    "Layer (type)                 Output Shape              Param #   \n",
    "=================================================================\n",
    "bidirectional_1 (Bidirection (None, 5, 300)            241200    \n",
    "_________________________________________________________________\n",
    "bahdanau_gru_1 (BahdanauGRU) (None, 5, 100)            266000    \n",
    "_________________________________________________________________\n",
    "time_distributed_1 (TimeDist (None, 5, 50)             5050      \n",
    "=================================================================\n",
    "Total params: 512,250\n",
    "Trainable params: 512,250\n",
    "Non-trainable params: 0"
   ]
  },
  {
   "cell_type": "code",
   "execution_count": null,
   "metadata": {},
   "outputs": [],
   "source": [
    "Accuracy: 100.00%\n",
    "Expected: [14, 16, 0, 0, 0] Predicted [14, 16, 0, 0, 0]\n",
    "Expected: [41, 49, 0, 0, 0] Predicted [41, 49, 0, 0, 0]\n",
    "Expected: [39, 19, 0, 0, 0] Predicted [39, 19, 0, 0, 0]\n",
    "Expected: [15, 15, 0, 0, 0] Predicted [15, 15, 0, 0, 0]\n",
    "Expected: [14, 7, 0, 0, 0] Predicted [14, 7, 0, 0, 0]\n",
    "Expected: [4, 9, 0, 0, 0] Predicted [4, 9, 0, 0, 0]\n",
    "Expected: [17, 30, 0, 0, 0] Predicted [17, 30, 0, 0, 0]\n",
    "Expected: [8, 12, 0, 0, 0] Predicted [8, 12, 0, 0, 0]\n",
    "Expected: [37, 4, 0, 0, 0] Predicted [37, 4, 0, 0, 0]\n",
    "Expected: [13, 30, 0, 0, 0] Predicted [13, 30, 0, 0, 0]"
   ]
  },
  {
   "cell_type": "code",
   "execution_count": null,
   "metadata": {},
   "outputs": [],
   "source": [
    "Bahdanau layer learns the toy problem perfectly. However, we should try it out with harder problems; and be careful with overfitting."
   ]
  }
 ],
 "metadata": {
  "kernelspec": {
   "display_name": "Python 3",
   "language": "python",
   "name": "python3"
  },
  "language_info": {
   "codemirror_mode": {
    "name": "ipython",
    "version": 3
   },
   "file_extension": ".py",
   "mimetype": "text/x-python",
   "name": "python",
   "nbconvert_exporter": "python",
   "pygments_lexer": "ipython3",
   "version": "3.6.7"
  }
 },
 "nbformat": 4,
 "nbformat_minor": 2
}
