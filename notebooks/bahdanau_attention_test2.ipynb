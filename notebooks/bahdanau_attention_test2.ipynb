{
 "cells": [
  {
   "cell_type": "markdown",
   "metadata": {},
   "source": [
    "# Bahdanau Attention Test 2\n",
    "\n",
    "Let's test our Bahdanau Attention Layer with the following test code [1](https://machinelearningmastery.com/encoder-decoder-attention-sequence-to-sequence-prediction-keras/).\n",
    "\n",
    "* Added Bahdanau layer, followed by a TimeDistributedDense layer.\n",
    "* Also, changed LSTM layer to BiLSTM layer as in [2](https://arxiv.org/pdf/1409.0473.pdf)."
   ]
  },
  {
   "cell_type": "code",
   "execution_count": null,
   "metadata": {},
   "outputs": [],
   "source": [
    "from random import randint\n",
    "from numpy import array\n",
    "from numpy import argmax\n",
    "from numpy import array_equal\n",
    "from keras.models import Sequential\n",
    "from keras.layers import LSTM\n",
    "from keras.layers import Dense\n",
    "from keras.layers import TimeDistributed\n",
    "from keras.layers import RepeatVector\n",
    "from keras_bahdanau.recurrent import BahdanauGRU\n",
    "\n",
    "\n",
    "# generate a sequence of random integers\n",
    "def generate_sequence(length, n_unique):\n",
    "    return [randint(0, n_unique - 1) for _ in range(length)]\n",
    "\n",
    "\n",
    "# one hot encode sequence\n",
    "def one_hot_encode(sequence, n_unique):\n",
    "    encoding = list()\n",
    "    for value in sequence:\n",
    "        vector = [0 for _ in range(n_unique)]\n",
    "        vector[value] = 1\n",
    "        encoding.append(vector)\n",
    "    return array(encoding)\n",
    "\n",
    "\n",
    "# decode a one hot encoded string\n",
    "def one_hot_decode(encoded_seq):\n",
    "    return [argmax(vector) for vector in encoded_seq]\n",
    "\n",
    "\n",
    "# prepare data for the LSTM\n",
    "def get_pair(n_in, n_out, cardinality):\n",
    "    # generate random sequence\n",
    "    sequence_in = generate_sequence(n_in, cardinality)\n",
    "    sequence_out = sequence_in[:n_out] + [0 for _ in range(n_in - n_out)]\n",
    "    # one hot encode\n",
    "    X = one_hot_encode(sequence_in, cardinality)\n",
    "    y = one_hot_encode(sequence_out, cardinality)\n",
    "    # reshape as 3D\n",
    "    X = X.reshape((1, X.shape[0], X.shape[1]))\n",
    "    y = y.reshape((1, y.shape[0], y.shape[1]))\n",
    "    return X, y\n",
    "\n",
    "\n",
    "# define the encoder-decoder model\n",
    "def baseline_model(n_timesteps_in, n_features):\n",
    "    model = Sequential()\n",
    "    model.add(LSTM(150, input_shape=(n_timesteps_in, n_features)))\n",
    "    model.add(RepeatVector(n_timesteps_in))\n",
    "    model.add(LSTM(150, return_sequences=True))\n",
    "    model.add(TimeDistributed(Dense(n_features, activation='softmax')))\n",
    "    model.compile(loss='categorical_crossentropy', optimizer='adam', metrics=['acc'])\n",
    "    model.summary()\n",
    "    return model\n",
    "\n",
    "\n",
    "# define the encoder-decoder with attention model\n",
    "def attention_model(n_timesteps_in, n_features):\n",
    "    model = Sequential()\n",
    "    model.add(LSTM(150, input_shape=(n_timesteps_in, n_features), return_sequences=True))\n",
    "    #model.add(AttentionDecoder(150, n_features))\n",
    "    model.add(BahdanauGRU(50, return_sequences=True))\n",
    "    model.add(TimeDistributed(Dense(n_features, activation='softmax')))\n",
    "    model.compile(loss='categorical_crossentropy', optimizer='adam', metrics=['acc'])\n",
    "    model.summary()\n",
    "    return model\n",
    "\n",
    "\n",
    "# train and evaluate a model, return accuracy\n",
    "def train_evaluate_model(model, n_timesteps_in, n_timesteps_out, n_features):\n",
    "    # train LSTM\n",
    "    for epoch in range(5000):\n",
    "        # generate new random sequence\n",
    "        X, y = get_pair(n_timesteps_in, n_timesteps_out, n_features)\n",
    "        # fit model for one epoch on this sequence\n",
    "        model.fit(X, y, epochs=1, verbose=0)\n",
    "    # evaluate LSTM\n",
    "    total, correct = 100, 0\n",
    "    for _ in range(total):\n",
    "        X, y = get_pair(n_timesteps_in, n_timesteps_out, n_features)\n",
    "        yhat = model.predict(X, verbose=0)\n",
    "        if array_equal(one_hot_decode(y[0]), one_hot_decode(yhat[0])):\n",
    "            correct += 1\n",
    "    return float(correct) / float(total) * 100.0\n",
    "\n",
    "\n",
    "# configure problem\n",
    "n_features = 50\n",
    "n_timesteps_in = 5\n",
    "n_timesteps_out = 2\n",
    "n_repeats = 10\n",
    "# evaluate encoder-decoder model\n",
    "print('Encoder-Decoder Model')\n",
    "results = list()\n",
    "for _ in range(n_repeats):\n",
    "    model = baseline_model(n_timesteps_in, n_features)\n",
    "    accuracy = train_evaluate_model(model, n_timesteps_in, n_timesteps_out, n_features)\n",
    "    results.append(accuracy)\n",
    "    print(accuracy)\n",
    "print('Mean Accuracy: %.2f%%' % (sum(results) / float(n_repeats)))\n",
    "# evaluate attention model\n",
    "print('Attention Model')\n",
    "results = list()\n",
    "for _ in range(n_repeats):\n",
    "    model = attention_model(n_timesteps_in, n_features)\n",
    "    accuracy = train_evaluate_model(model, n_timesteps_in, n_timesteps_out, n_features)\n",
    "    results.append(accuracy)\n",
    "    print(accuracy)\n",
    "print('Mean Accuracy: %.2f%%' % (sum(results) / float(n_repeats)))"
   ]
  },
  {
   "cell_type": "markdown",
   "metadata": {},
   "source": [
    "Here are the results and model summary of the baseline in the example:"
   ]
  },
  {
   "cell_type": "code",
   "execution_count": null,
   "metadata": {},
   "outputs": [],
   "source": [
    "_________________________________________________________________\n",
    "Layer (type)                 Output Shape              Param #   \n",
    "=================================================================\n",
    "lstm_1 (LSTM)                (None, 150)               120600    \n",
    "_________________________________________________________________\n",
    "repeat_vector_1 (RepeatVecto (None, 5, 150)            0         \n",
    "_________________________________________________________________\n",
    "lstm_2 (LSTM)                (None, 5, 150)            180600    \n",
    "_________________________________________________________________\n",
    "time_distributed_1 (TimeDist (None, 5, 50)             7550      \n",
    "=================================================================\n",
    "Total params: 308,750\n",
    "Trainable params: 308,750\n",
    "Non-trainable params: 0\n",
    "_________________________________________________________________"
   ]
  },
  {
   "cell_type": "code",
   "execution_count": null,
   "metadata": {},
   "outputs": [],
   "source": [
    "'Encoder-Decoder Model'\n",
    "23.0\n",
    "22.0\n",
    "12.0\n",
    "14.000000000000002\n",
    "35.0\n",
    "24.0\n",
    "21.0\n",
    "20.0\n",
    "24.0\n",
    "24.0\n",
    "Mean Accuracy: 21.90%"
   ]
  },
  {
   "cell_type": "markdown",
   "metadata": {},
   "source": [
    "Here are the results and model summary for when we set # of units of Bahdanau layer to 150:"
   ]
  },
  {
   "cell_type": "code",
   "execution_count": null,
   "metadata": {},
   "outputs": [],
   "source": [
    "_________________________________________________________________\n",
    "Layer (type)                 Output Shape              Param #   \n",
    "=================================================================\n",
    "lstm_1 (LSTM)                (None, 5, 150)            120600    \n",
    "_________________________________________________________________\n",
    "bahdanau_gru_1 (BahdanauGRU) (None, 5, 150)            260250    \n",
    "_________________________________________________________________\n",
    "time_distributed_1 (TimeDist (None, 5, 50)             7550      \n",
    "=================================================================\n",
    "Total params: 388,400\n",
    "Trainable params: 388,400\n",
    "Non-trainable params: 0\n",
    "_________________________________________________________________"
   ]
  },
  {
   "cell_type": "code",
   "execution_count": null,
   "metadata": {},
   "outputs": [],
   "source": [
    "'Attention Model'\n",
    "100.0\n",
    "100.0\n",
    "100.0\n",
    "100.0\n",
    "100.0\n",
    "100.0\n",
    "100.0\n",
    "100.0\n",
    "100.0\n",
    "100.0\n",
    "Mean Accuracy: 100.00%"
   ]
  },
  {
   "cell_type": "markdown",
   "metadata": {},
   "source": [
    "Here are the results and model summary for when we set # of units of Bahdanau layer to 50:"
   ]
  },
  {
   "cell_type": "code",
   "execution_count": null,
   "metadata": {},
   "outputs": [],
   "source": [
    "_________________________________________________________________\n",
    "Layer (type)                 Output Shape              Param #   \n",
    "=================================================================\n",
    "lstm_1 (LSTM)                (None, 5, 150)            120600    \n",
    "_________________________________________________________________\n",
    "bahdanau_gru_1 (BahdanauGRU) (None, 5, 50)             66750     \n",
    "_________________________________________________________________\n",
    "time_distributed_1 (TimeDist (None, 5, 50)             2550      \n",
    "=================================================================\n",
    "Total params: 189,900\n",
    "Trainable params: 189,900\n",
    "Non-trainable params: 0\n",
    "_________________________________________________________________"
   ]
  },
  {
   "cell_type": "code",
   "execution_count": null,
   "metadata": {},
   "outputs": [],
   "source": [
    "'Attention Model'\n",
    "100.0\n",
    "100.0\n",
    "100.0\n",
    "100.0\n",
    "100.0\n",
    "100.0\n",
    "100.0\n",
    "100.0\n",
    "100.0\n",
    "100.0\n",
    "Mean Accuracy: 100.00%"
   ]
  },
  {
   "cell_type": "markdown",
   "metadata": {},
   "source": [
    "Here are the results and model summary for when we set # of units of Bahdanau layer to 10:"
   ]
  },
  {
   "cell_type": "code",
   "execution_count": null,
   "metadata": {},
   "outputs": [],
   "source": [
    "_________________________________________________________________\n",
    "Layer (type)                 Output Shape              Param #   \n",
    "=================================================================\n",
    "lstm_1 (LSTM)                (None, 5, 150)            120600    \n",
    "_________________________________________________________________\n",
    "bahdanau_gru_1 (BahdanauGRU) (None, 5, 10)             11750     \n",
    "_________________________________________________________________\n",
    "time_distributed_1 (TimeDist (None, 5, 50)             550       \n",
    "=================================================================\n",
    "Total params: 132,900\n",
    "Trainable params: 132,900\n",
    "Non-trainable params: 0\n",
    "_________________________________________________________________"
   ]
  },
  {
   "cell_type": "code",
   "execution_count": null,
   "metadata": {},
   "outputs": [],
   "source": [
    "'Attention Model'\n",
    "87.0\n",
    "89.0\n",
    "83.0\n",
    "78.0\n",
    "69.0\n",
    "68.0\n",
    "86.0\n",
    "88.0\n",
    "92.0\n",
    "89.0\n",
    "Mean Accuracy: 82.90%"
   ]
  },
  {
   "cell_type": "markdown",
   "metadata": {},
   "source": [
    "We may observe that even with less number of weights, attention mechanism provides a great increase in the accuracy. However, we should be cautious about overfitting. In addition, we should investigate other factors (e.g. # of features, samples size, model structure etc.) in depth over a variety of domains. Though this simple example helps us to try out our attention layer."
   ]
  }
 ],
 "metadata": {
  "kernelspec": {
   "display_name": "Python 3",
   "language": "python",
   "name": "python3"
  },
  "language_info": {
   "codemirror_mode": {
    "name": "ipython",
    "version": 3
   },
   "file_extension": ".py",
   "mimetype": "text/x-python",
   "name": "python",
   "nbconvert_exporter": "python",
   "pygments_lexer": "ipython3",
   "version": "3.6.7"
  }
 },
 "nbformat": 4,
 "nbformat_minor": 2
}
